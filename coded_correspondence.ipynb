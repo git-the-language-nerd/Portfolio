{
 "cells": [
  {
   "cell_type": "markdown",
   "metadata": {},
   "source": [
    "# Casual Coded Correspondence: The Project\n",
    "\n",
    "In this project, you will be working to code and decode various messages between you and your fictional cryptography enthusiast pen pal Vishal. You and Vishal have been exchanging letters for quite some time now and have started to provide a puzzle in each one of your letters.  Here is his most recent letter:\n",
    "\n",
    "     Hey there! How have you been? I've been great! I just learned about this really cool type of cipher called a  Caesar Cipher. Here's how it works: You take your message, something like \"hello\" and then you shift all of the letters by a certain offset. For example, if I chose an offset of 3 and a message of \"hello\", I would code my message by shifting each letter 3 places to the left (with respect to the alphabet). So \"h\" becomes \"e\", \"e\" becomes, \"b\", \"l\" becomes \"i\", and \"o\" becomes \"l\". Then I have my coded message,\"ebiil\"! Now I can send you my message and the offset and you can decode it. The best thing is that Julius Caesar himself used this cipher, that's why it's called the Caesar Cipher! Isn't that so cool! Okay, now I'm going to send you a longer coded message that you have to decode yourself!\n",
    "    \n",
    "        xuo jxuhu! jxyi yi qd unqcfbu ev q squiqh syfxuh. muhu oek qrbu je tusetu yj? y xefu ie! iudt cu q cuiiqwu rqsa myjx jxu iqcu evviuj!\n",
    "    \n",
    "    This message has an offset of 10. Can you decode it?\n",
    "    \n",
    "\n",
    "#### Step 1: Decode Vishal's Message\n",
    "In the cell below, use your Python skills to decode Vishal's message and print the result. Hint: you can account for shifts that go past the end of the alphabet using the modulus operator, but I'll let you figure out how!"
   ]
  },
  {
   "cell_type": "code",
   "execution_count": 48,
   "metadata": {},
   "outputs": [
    {
     "name": "stdout",
     "output_type": "stream",
     "text": [
      "\n",
      "===---\n",
      "DECODED MESSAGE:  hey there! this is an example of a caesar cipher. were you able to decode it? i hope so! send me a message back with the same offset!\n",
      "What's the offset?? -->  Found target word caesar by decoding with offset: 14\n",
      "===---\n",
      "\n"
     ]
    }
   ],
   "source": [
    "alphabet = list('abcdefghijklmnopqrstuvwxyz')\n",
    "alphabet_twice = list('abcdefghijklmnopqrstuvwxyzabcdefghijklmnopqrstuvwxyz')\n",
    "\n",
    "def decoder(message, offset):\n",
    "    decoded_msg = \"\"\n",
    "    for character in message: \n",
    "        if character not in alphabet:\n",
    "            decoded_msg += character        \n",
    "        else:\n",
    "            for letter in alphabet:\n",
    "                if character == letter:\n",
    "                    decoded_msg += alphabet_twice[(alphabet_twice.index(letter))+(offset)]\n",
    "    return decoded_msg\n",
    "\n",
    "def find_offset_by_target_word(message, offset_list, target_word):\n",
    "    decoded_msg = \"\"\n",
    "    offset_counter = -1\n",
    "    for offset in offset_list:\n",
    "        if target_word in decoded_msg :\n",
    "            break\n",
    "        else: \n",
    "            offset_counter += 1\n",
    "            for character in message: \n",
    "                if character not in alphabet:\n",
    "                    decoded_msg += character        \n",
    "                else:\n",
    "                    for letter in alphabet:\n",
    "                        if character == letter:\n",
    "                            decoded_msg += alphabet_twice[(alphabet_twice.index(letter))+(offset)]\n",
    "    return \"Found target word \" + target_word + \" by decoding with offset: \" + str(offset_counter)\n",
    "            \n",
    "message = \"xuo jxuhu! jxyi yi qd unqcfbu ev q squiqh syfxuh. muhu oek qrbu je tusetu yj? y xefu ie! iudt cu q cuiiqwu rqsa myjx jxu iqcu evviuj!\"\n",
    "\n",
    "print(\"\")\n",
    "print(\"===---\")\n",
    "print(\"DECODED MESSAGE: \", decoder(message, offset=10))\n",
    "\n",
    "message1 = \"bqdradyuzs ygxfubxq omqemd oubtqde fa oapq kagd yqeemsqe ue qhqz yadq eqogdq!\"\n",
    "print(\"What's the offset?? --> \", find_offset_by_target_word(message=message1, offset_list=range(25), target_word=\"caesar\"))\n",
    "\n",
    "print(\"===---\")\n",
    "print(\"\")"
   ]
  },
  {
   "cell_type": "markdown",
   "metadata": {},
   "source": [
    "#### Step 2: Send Vishal a Coded Message\n",
    "Great job! Now send Vishal back a message using the same offset. Your message can be anything you want! Remember, coding happens in opposite direction of decoding."
   ]
  },
  {
   "cell_type": "code",
   "execution_count": 49,
   "metadata": {},
   "outputs": [
    {
     "name": "stdout",
     "output_type": "stream",
     "text": [
      "\n",
      "===---\n",
      "ENCODED MESSAGE:  xy! oui y mqi qrbu je tusyfxuh yj. ludy lyty lysy. xuhu oek we, jxuhu yi oekh cuiiqwu!!\n",
      "===---\n",
      "\n"
     ]
    }
   ],
   "source": [
    "def coder(message, offset):\n",
    "    my_msg_coded = \"\"\n",
    "    for character in message: \n",
    "        if character not in alphabet_twice:\n",
    "            my_msg_coded += character        \n",
    "        else:\n",
    "            for letter in alphabet:\n",
    "                if character == letter:\n",
    "                    my_msg_coded += alphabet_twice[(alphabet_twice.index(letter))-(offset)]\n",
    "    return my_msg_coded\n",
    "\n",
    "my_msg = 'hi! yes i was able to decipher it. veni vidi vici. here you go, there is your message!!'\n",
    "\n",
    "print(\"\")\n",
    "print(\"===---\")\n",
    "print(\"ENCODED MESSAGE: \", coder(my_msg, 10))\n",
    "\n",
    "print(\"===---\")\n",
    "print(\"\")"
   ]
  },
  {
   "cell_type": "markdown",
   "metadata": {},
   "source": [
    "#### Step 3: Make functions for decoding and coding \n",
    "\n",
    "Vishal sent over another reply, this time with two coded messages!\n",
    "    \n",
    "    You're getting the hang of this! Okay here are two more messages, the first one is coded just like before with  an offset of ten, and it contains the hint for decoding the second message!\n",
    "    \n",
    "    First message:\n",
    "    \n",
    "        jxu evviuj veh jxu iusedt cuiiqwu yi vekhjuud.\n",
    "        \n",
    "    Second message:\n",
    "    \n",
    "        bqdradyuzs ygxfubxq omqemd oubtqde fa oapq kagd yqeemsqe ue qhqz yadq eqogdq!\n",
    "    \n",
    "Decode both of these messages. \n",
    "\n",
    "If you haven't already, define two functions `decoder(message, offset)` and `coder(message, offset)` that can be used to quickly decode and code messages given any offset."
   ]
  },
  {
   "cell_type": "code",
   "execution_count": 51,
   "metadata": {},
   "outputs": [
    {
     "name": "stdout",
     "output_type": "stream",
     "text": [
      "\n",
      "===---\n",
      "DECODED MESSAGE1:  the offset for the second message is fourteen.\n",
      "DECODED MESSAGE2:  performing multiple caesar ciphers to code your messages is even more secure!\n",
      "What's the offset?? -->  Found target word caesar by decoding with offset: 14\n",
      "===---\n",
      "\n"
     ]
    }
   ],
   "source": [
    "print(\"\")\n",
    "print(\"===---\")\n",
    "\n",
    "message2 = \"jxu evviuj veh jxu iusedt cuiiqwu yi vekhjuud.\"\n",
    "print(\"DECODED MESSAGE1: \", decoder(message2, 10))\n",
    "\n",
    "message = \"bqdradyuzs ygxfubxq omqemd oubtqde fa oapq kagd yqeemsqe ue qhqz yadq eqogdq!\"\n",
    "\n",
    "print(\"DECODED MESSAGE2: \", decoder(message, 14))\n",
    "\n",
    "message3 = \"bqdradyuzs ygxfubxq omqemd oubtqde fa oapq kagd yqeemsqe ue qhqz yadq eqogdq!\"\n",
    "print(\"What's the offset?? --> \", find_offset_by_target_word(message=message3, offset_list=range(25), target_word=\"caesar\"))\n",
    "\n",
    "print(\"===---\")\n",
    "print(\"\")"
   ]
  },
  {
   "cell_type": "code",
   "execution_count": 32,
   "metadata": {
    "scrolled": true
   },
   "outputs": [
    {
     "name": "stdout",
     "output_type": "stream",
     "text": [
      "\n",
      "===---\n",
      "Found target word cipher by decoding with offset: 7\n",
      "DECODED MESSAGE:  computers have rendered all of these old ciphers as obsolete. we'll have to really step up our game if we want to keep our messages safe.\n",
      "===---\n",
      "\n"
     ]
    }
   ],
   "source": [
    "message = \"vhfinmxkl atox kxgwxkxw tee hy maxlx hew vbiaxkl tl hulhexmx. px'ee atox mh kxteer lmxi ni hnk ztfx by px ptgm mh dxxi hnk fxlltzxl ltyx.\"\n",
    "\n",
    "print(\"\")\n",
    "print(\"===---\")\n",
    "print(find_offset_by_target_word(message, offset_list=range(25), target_word=\"cipher\"))\n",
    "\n",
    "print(\"DECODED MESSAGE: \", decoder(message, offset=7))\n",
    "print(\"===---\")\n",
    "print(\"\")"
   ]
  },
  {
   "cell_type": "markdown",
   "metadata": {},
   "source": [
    "#### Step 4: Solving a Caesar Cipher without knowing the shift value\n",
    "\n",
    "Awesome work! While you were working to decode his last two messages, Vishal sent over another letter! He's really been bitten by the crytpo-bug. Read it and see what interesting task he has lined up for you this time.\n",
    "\n",
    "            Hello again friend! I knew you would love the Caesar Cipher, it's a cool simple way to encrypt messages. Did you know that back in Caesar's time, it was considered a very secure way of communication and it took a lot of effort to crack if you were unaware of the value of the shift? That's all changed with computers! Now we can brute force these kinds of ciphers very quickly, as I'm sure you can imagine.\n",
    "            \n",
    "            To test your cryptography skills, this next coded message is going to be harder than the last couple to crack. It's still going to be coded with a Caesar Cipher but this time I'm not going to tell you the value of   the shift. You'll have to brute force it yourself.\n",
    "            \n",
    "            Here's the coded message:\n",
    "            \n",
    "            vhfinmxkl atox kxgwxkxw tee hy maxlx hew vbiaxkl tl hulhexmx. px'ee atox mh kxteer lmxi ni hnk ztfx by px ptgm mh dxxi hnk fxlltzxl ltyx.\n",
    "            \n",
    "            Good luck!\n",
    "            \n",
    "Decode Vishal's most recent message and see what it says!"
   ]
  },
  {
   "cell_type": "code",
   "execution_count": 53,
   "metadata": {},
   "outputs": [
    {
     "name": "stdout",
     "output_type": "stream",
     "text": [
      "\n",
      "===---\n",
      "you were able to decode this? nice work! you are becoming quite the expert at crytography\n",
      "===---\n",
      "\n"
     ]
    }
   ],
   "source": [
    "alphabet_twice = list('abcdefghijklmnopqrstuvwxyzabcdefghijklmnopqrstuvwxyz')\n",
    "\n",
    "encoded_message = \"dfc aruw fsti gr vjtwhr wznj? vmph otis! cbx swv jipreneo uhllj kpi rahjib eg fjdkwkedhmp\"\n",
    "keyword = \"friends\"\n",
    "\n",
    "def vigenere_decoder(encoded_message, keyword):\n",
    "    decoded_msg = \"\"\n",
    "    counter = 0\n",
    "    for character in encoded_message:\n",
    "        if character not in alphabet:\n",
    "            decoded_msg += character\n",
    "        else:\n",
    "            for letter in keyword:\n",
    "                decoded_msg += str(alphabet[(alphabet.index(character))-(alphabet.index(keyword[counter]))])\n",
    "                counter += 1\n",
    "                if counter > (len(keyword)-1):\n",
    "                    counter = 0\n",
    "                break\n",
    "    return decoded_msg\n",
    "\n",
    "print(\"\")\n",
    "print(\"===---\")\n",
    "print(vigenere_decoder(encoded_message, keyword))\n",
    "\n",
    "print(\"===---\")\n",
    "print(\"\")\n"
   ]
  },
  {
   "cell_type": "markdown",
   "metadata": {},
   "source": [
    "#### Step 5: The Vigenère Cipher\n",
    "\n",
    "Great work! While you were working on the brute force cracking of the cipher, Vishal sent over another letter. That guy is a letter machine!\n",
    "\n",
    "            Salutations! As you can see, technology has made brute forcing simple ciphers like the Caesar Cipher extremely easy, and us crypto-enthusiasts have had to get more creative and use more complicated ciphers. This next cipher I'm going to teach you is the Vigenère Cipher, invented by an Italian cryptologist named Giovan Battista Bellaso (cool name eh?) in the 16th century, but named after another cryptologist from the 16th century, Blaise de Vigenère.\n",
    "            \n",
    "           The Vigenère Cipher is a polyalphabetic substitution cipher, as opposed to the Caesar Cipher which was a monoalphabetic substitution cipher. What this means is that opposed to having a single shift that is applied to every letter, the Vigenère Cipher has a different shift for each individual letter. The value of the shift for each letter is determined by a given keyword.\n",
    "           \n",
    "           Consider the message\n",
    "           \n",
    "               barry is the spy\n",
    "\n",
    "           If we want to code this message, first we choose a keyword. For this example, we'll use the keyword\n",
    "           \n",
    "               dog\n",
    "               \n",
    "           Now we use the repeat the keyword over and over to generate a _keyword phrase_ that is the same length as the message we want to code. So if we want to code the message \"barry is the spy\" our _keyword phrase_ is \"dogdo gd ogd ogd\". Now we are ready to start coding our message. We shift the each letter of our message by the place value of the corresponding letter in the keyword phrase, assuming that \"a\" has a place value of 0, \"b\" has a place value of 1, and so forth. Remember, we zero-index because this is Python we're talking about!\n",
    "\n",
    "                        message:       b  a  r  r  y    i  s   t  h  e   s  p  y\n",
    "                \n",
    "                 keyword phrase:       d  o  g  d  o    g  d   o  g  d   o  g  d\n",
    "                 \n",
    "          resulting place value:       4  14 15 12 16   24 11  21 25 22  22 17 5\n",
    "      \n",
    "            So we shift \"b\", which has an index of 1, by the index of \"d\", which is 3. This gives us an place value of 4, which is \"e\". Then continue the trend: we shift \"a\" by the place value of \"o\", 14, and get \"o\" again, we shift \"r\" by the place value of \"g\", 15, and get \"x\", shift the next \"r\" by 12 places and \"u\", and so forth. Once we complete all the shifts we end up with our coded message:\n",
    "            \n",
    "                eoxum ov hnh gvb\n",
    "                \n",
    "            As you can imagine, this is a lot harder to crack without knowing the keyword! So now comes the hard part. I'll give you a message and the keyword, and you'll see if you can figure out how to crack it! Ready? Okay here's my message:\n",
    "            \n",
    "                dfc aruw fsti gr vjtwhr wznj? vmph otis! cbx swv jipreneo uhllj kpi rahjib eg fjdkwkedhmp!\n",
    "                \n",
    "            and the keyword to decode my message is \n",
    "            \n",
    "                friends\n",
    "                \n",
    "            Because that's what we are! Good luck friend!\n",
    "           \n",
    "And there it is. Vishal has given you quite the assignment this time! Try to decode his message. It may be helpful to create a function that takes two parameters, the coded message and the keyword and then work towards a solution from there.\n",
    "\n",
    "**NOTE:** Watch out for spaces and punctuation! When there's a space or punctuation mark in the original message, there should be a space/punctuation mark in the corresponding repeated-keyword string as well! "
   ]
  },
  {
   "cell_type": "code",
   "execution_count": 57,
   "metadata": {},
   "outputs": [
    {
     "name": "stdout",
     "output_type": "stream",
     "text": [
      "\n",
      "===---\n",
      "you were able to decode this? nice work! you are becoming quite the expert at crytography\n",
      "===---\n",
      "\n"
     ]
    }
   ],
   "source": [
    "alphabet_twice = list('abcdefghijklmnopqrstuvwxyzabcdefghijklmnopqrstuvwxyz')\n",
    "\n",
    "encoded_message = \"dfc aruw fsti gr vjtwhr wznj? vmph otis! cbx swv jipreneo uhllj kpi rahjib eg fjdkwkedhmp\"\n",
    "keyword = \"friends\"\n",
    "\n",
    "def vigenere_decoder(encoded_message, keyword):\n",
    "    decoded_msg = \"\"\n",
    "    counter = 0\n",
    "    for character in encoded_message:\n",
    "        if character not in alphabet:\n",
    "            decoded_msg += character\n",
    "        else:\n",
    "            for letter in keyword:\n",
    "                decoded_msg += str(alphabet[(alphabet.index(character))-(alphabet.index(keyword[counter]))])\n",
    "                counter += 1\n",
    "                if counter > (len(keyword)-1):\n",
    "                    counter = 0\n",
    "                break\n",
    "    return decoded_msg\n",
    "\n",
    "print(\"\")\n",
    "print(\"===---\")\n",
    "print(vigenere_decoder(encoded_message, keyword))\n",
    "print(\"===---\")\n",
    "print(\"\")"
   ]
  },
  {
   "cell_type": "markdown",
   "metadata": {
    "collapsed": true
   },
   "source": [
    "#### Step 6: Send a message with the  Vigenère Cipher\n",
    "Great work decoding the message. For your final task, write a function that can encode a message using a given keyword and write out a message to send to Vishal!\n",
    "\n",
    "*As a bonus, try calling your decoder function on the result of your encryption function. You should get the original message back!*"
   ]
  },
  {
   "cell_type": "code",
   "execution_count": 59,
   "metadata": {},
   "outputs": [
    {
     "name": "stdout",
     "output_type": "stream",
     "text": [
      "\n",
      "===---\n",
      "The keyword phrase is: fri ends frie nd sfrien dsfr? iend sfri! end sfr iendsfri endsf rie ndsfri en dsfriendsfr\n",
      "\n",
      "The coded message is: dfc aruw fsti gr vjtwhr wznj? vmph otis! cbx swv jipreneo uhllj kpi rahjib eg fjdkwkedhmp\n",
      "\n",
      "Bonus - Calling the decoder on the coded message produces:  you were able to decode this? nice work! you are becoming quite the expert at crytography\n",
      "===---\n",
      "\n"
     ]
    }
   ],
   "source": [
    "message = \"you were able to decode this? nice work! you are becoming quite the expert at crytography\"\n",
    "keyword = \"friends\"\n",
    "\n",
    "\n",
    "\n",
    "alphabet = list('abcdefghijklmnopqrstuvwxyz')\n",
    "alphabet_twice = list('abcdefghijklmnopqrstuvwxyzabcdefghijklmnopqrstuvwxyz')\n",
    "\n",
    "\n",
    "def vigenere_keyword_phrase_generator(message, keyword):\n",
    "    keyword_phrase = \"\"\n",
    "    counter = 0\n",
    "    for character in message:\n",
    "        if character not in alphabet:\n",
    "            keyword_phrase += character\n",
    "        else:\n",
    "            for letter in keyword:\n",
    "                keyword_phrase += keyword[counter]\n",
    "                counter += 1\n",
    "                if counter > (len(keyword)-1):\n",
    "                    counter = 0\n",
    "                break\n",
    "    return keyword_phrase\n",
    "\n",
    "keyword_phrase = \"fri ends frie nd sfrien dsfr? iend sfri! end sfr iendsfri endsf rie ndsfri en dsfriendsfr\"\n",
    "\n",
    "def vigenere_encoder(message, keyword_phrase):\n",
    "    coded_msg = \"\"\n",
    "    counter = 0\n",
    "    for character in message:\n",
    "        if character not in alphabet:\n",
    "            coded_msg += character\n",
    "            counter += 1\n",
    "        else:\n",
    "            for letter in keyword_phrase:\n",
    "                coded_msg += str(alphabet_twice[(alphabet.index(message[counter])+(alphabet.index(keyword_phrase[counter])))])\n",
    "                counter += 1\n",
    "                if counter > (len(message)-1):\n",
    "                    counter = 0\n",
    "                break\n",
    "    return coded_msg\n",
    "\n",
    "\n",
    "\n",
    "print(\"\")\n",
    "print(\"===---\")\n",
    "print(\"The keyword phrase is: \" + vigenere_keyword_phrase_generator(message, keyword)) \n",
    "print(\"\")\n",
    "print(\"The coded message is: \" + vigenere_encoder(message, keyword_phrase))\n",
    "print(\"\")\n",
    "print(\"Bonus - Calling the decoder on the coded message produces: \", vigenere_decoder(encoded_message, keyword))\n",
    "print(\"===---\")\n",
    "print(\"\")"
   ]
  },
  {
   "cell_type": "markdown",
   "metadata": {},
   "source": [
    "#### Conclusion\n",
    "Over the course of this project you've learned about two different cipher methods and have used your Python skills to code and decode messages. There are all types of other facinating ciphers out there to explore, and Python is the perfect language to implement them with, so go exploring! "
   ]
  }
 ],
 "metadata": {
  "kernelspec": {
   "display_name": "Python 3 (ipykernel)",
   "language": "python",
   "name": "python3"
  },
  "language_info": {
   "codemirror_mode": {
    "name": "ipython",
    "version": 3
   },
   "file_extension": ".py",
   "mimetype": "text/x-python",
   "name": "python",
   "nbconvert_exporter": "python",
   "pygments_lexer": "ipython3",
   "version": "3.10.6"
  }
 },
 "nbformat": 4,
 "nbformat_minor": 2
}
